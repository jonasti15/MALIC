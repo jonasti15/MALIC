{
 "cells": [
  {
   "cell_type": "markdown",
   "id": "9327f93c-d449-4801-8f66-f10a68388507",
   "metadata": {},
   "source": [
    "Importar"
   ]
  },
  {
   "cell_type": "code",
   "execution_count": 1,
   "id": "d4e94182-48ca-4dfa-8215-18936f48c108",
   "metadata": {},
   "outputs": [],
   "source": [
    "import numpy\n",
    "import tensorflow as tf\n",
    "from tensorflow import keras\n",
    "from keras.constraints import maxnorm\n",
    "from keras.utils import np_utils\n",
    "from keras.models import Sequential\n",
    "from tensorflow.keras import layers\n",
    "#pd.options.mode.chained_assignment = None\n",
    "\n",
    "img_height=255\n",
    "img_width=255"
   ]
  },
  {
   "cell_type": "code",
   "execution_count": 2,
   "id": "5c63fae1-670c-4dbc-9457-fc53e47286f5",
   "metadata": {},
   "outputs": [
    {
     "name": "stdout",
     "output_type": "stream",
     "text": [
      "Found 12877 images belonging to 44 classes.\n",
      "Found 3199 images belonging to 44 classes.\n",
      "Found 2200 images belonging to 44 classes.\n",
      "(32, 255, 255, 3)\n",
      "(32, 44)\n"
     ]
    }
   ],
   "source": [
    "from tensorflow.keras.preprocessing.image import ImageDataGenerator\n",
    "test_datagen = ImageDataGenerator(rescale=1./255)\n",
    "train_datagen = ImageDataGenerator(\n",
    "        rescale=1./255,\n",
    "        shear_range=0.2,\n",
    "        zoom_range=0.2,\n",
    "        validation_split=0.2,\n",
    "        horizontal_flip=True)\n",
    "\n",
    "train_ds = train_datagen.flow_from_directory(\n",
    "    directory='datos_nuevos/train',\n",
    "    class_mode='categorical',\n",
    "    batch_size=32,\n",
    "    target_size=(img_height, img_width),\n",
    "    subset='training')\n",
    "validation_ds = train_datagen.flow_from_directory(\n",
    "    directory='datos_nuevos/train',\n",
    "    class_mode='categorical',\n",
    "    batch_size=32,\n",
    "    target_size=(img_height, img_width),\n",
    "    subset='validation')\n",
    "test_ds = test_datagen.flow_from_directory(\n",
    "    directory='datos_nuevos/test',\n",
    "    class_mode='categorical',\n",
    "    batch_size=32,\n",
    "    target_size=(img_height, img_width))\n",
    "\n",
    "\n",
    "images, labels = next(train_ds)\n",
    "\n",
    "print(images.shape)\n",
    "print(labels.shape)"
   ]
  },
  {
   "cell_type": "code",
   "execution_count": 3,
   "id": "8e527f75-4286-4a63-abf7-31124e1327e5",
   "metadata": {},
   "outputs": [],
   "source": [
    "classes=['Bear', 'Camel', 'Cattle', 'Chicken',  'Deer', 'Duck', 'Eagle', 'Elephant', 'Fox', 'Frog', 'Giraffe', 'Goldfish', 'Hedgehog', 'Hippopotamus', 'Horse', 'Jaguar', 'Kangaroo', 'Koala', 'Lion', 'Lizard', 'Lynx', 'Magpie', 'Monkey', 'Ostrich', 'Otter', 'Owl', 'Panda', 'Parrot', 'Penguin', 'Polar bear', 'Rabbit', 'Raccoon', 'Red panda', 'Rhinoceros', 'Sheep', 'Snake', 'Sparrow', 'Squirrel', 'Swan', 'Tiger', 'Turkey', 'Turtle', 'Woodpecker', 'Zebra']\n",
    "num_classes = len(classes)\n",
    "\n",
    "model = Sequential([\n",
    "  # layers.Rescaling(1./255),\n",
    "  layers.Conv2D(16, 3, input_shape=(img_height, img_width, 3), padding='same', activation='relu'),\n",
    "  layers.MaxPooling2D(),\n",
    "  layers.Conv2D(32, 3, padding='same', activation='relu'),\n",
    "  layers.MaxPooling2D(),\n",
    "  layers.Conv2D(64, 3, padding='same', activation='relu'),\n",
    "  layers.MaxPooling2D(),\n",
    "  layers.Flatten(),\n",
    "  layers.Dense(512, activation='relu'),\n",
    "  layers.Dense(512, activation='relu'),\n",
    "  layers.Dense(num_classes,activation='softmax')\n",
    "])"
   ]
  },
  {
   "cell_type": "code",
   "execution_count": 4,
   "id": "e7bf3f91-be02-40c9-a064-348ac6ecd1e0",
   "metadata": {},
   "outputs": [],
   "source": [
    "model.compile(optimizer='adam',\n",
    "              loss='categorical_crossentropy',#tf.keras.losses.SparseCategoricalCrossentropy(from_logits=True),\n",
    "              metrics=['accuracy'])"
   ]
  },
  {
   "cell_type": "code",
   "execution_count": 5,
   "id": "1cdb2dbd-170f-4d1d-8025-20c256a2000c",
   "metadata": {},
   "outputs": [
    {
     "name": "stdout",
     "output_type": "stream",
     "text": [
      "Model: \"sequential\"\n",
      "_________________________________________________________________\n",
      " Layer (type)                Output Shape              Param #   \n",
      "=================================================================\n",
      " conv2d (Conv2D)             (None, 255, 255, 16)      448       \n",
      "                                                                 \n",
      " max_pooling2d (MaxPooling2D  (None, 127, 127, 16)     0         \n",
      " )                                                               \n",
      "                                                                 \n",
      " conv2d_1 (Conv2D)           (None, 127, 127, 32)      4640      \n",
      "                                                                 \n",
      " max_pooling2d_1 (MaxPooling  (None, 63, 63, 32)       0         \n",
      " 2D)                                                             \n",
      "                                                                 \n",
      " conv2d_2 (Conv2D)           (None, 63, 63, 64)        18496     \n",
      "                                                                 \n",
      " max_pooling2d_2 (MaxPooling  (None, 31, 31, 64)       0         \n",
      " 2D)                                                             \n",
      "                                                                 \n",
      " flatten (Flatten)           (None, 61504)             0         \n",
      "                                                                 \n",
      " dense (Dense)               (None, 512)               31490560  \n",
      "                                                                 \n",
      " dense_1 (Dense)             (None, 512)               262656    \n",
      "                                                                 \n",
      " dense_2 (Dense)             (None, 44)                22572     \n",
      "                                                                 \n",
      "=================================================================\n",
      "Total params: 31,799,372\n",
      "Trainable params: 31,799,372\n",
      "Non-trainable params: 0\n",
      "_________________________________________________________________\n"
     ]
    }
   ],
   "source": [
    "model.summary()"
   ]
  },
  {
   "cell_type": "code",
   "execution_count": 6,
   "id": "0e01cdd0-3f0f-4697-8f2d-7c7d50279821",
   "metadata": {},
   "outputs": [
    {
     "name": "stdout",
     "output_type": "stream",
     "text": [
      "Epoch 1/10\n",
      "345/403 [========================>.....] - ETA: 1:03 - loss: 3.4006 - accuracy: 0.1322"
     ]
    },
    {
     "name": "stderr",
     "output_type": "stream",
     "text": [
      "C:\\Users\\andoi\\anaconda3\\lib\\site-packages\\PIL\\Image.py:2918: DecompressionBombWarning: Image size (108731904 pixels) exceeds limit of 89478485 pixels, could be decompression bomb DOS attack.\n",
      "  warnings.warn(\n"
     ]
    },
    {
     "name": "stdout",
     "output_type": "stream",
     "text": [
      "403/403 [==============================] - 527s 1s/step - loss: 3.3748 - accuracy: 0.1367 - val_loss: 3.2565 - val_accuracy: 0.1504\n",
      "Epoch 2/10\n",
      "403/403 [==============================] - 477s 1s/step - loss: 3.0403 - accuracy: 0.1945 - val_loss: 2.9838 - val_accuracy: 0.2129\n",
      "Epoch 3/10\n",
      "403/403 [==============================] - 474s 1s/step - loss: 2.7649 - accuracy: 0.2504 - val_loss: 2.8681 - val_accuracy: 0.2451\n",
      "Epoch 4/10\n",
      "403/403 [==============================] - 475s 1s/step - loss: 2.5355 - accuracy: 0.3047 - val_loss: 2.7933 - val_accuracy: 0.2673\n",
      "Epoch 5/10\n",
      "403/403 [==============================] - 476s 1s/step - loss: 2.3370 - accuracy: 0.3558 - val_loss: 2.6845 - val_accuracy: 0.2898\n",
      "Epoch 6/10\n",
      "403/403 [==============================] - 475s 1s/step - loss: 2.1721 - accuracy: 0.3945 - val_loss: 2.7096 - val_accuracy: 0.2882\n",
      "Epoch 7/10\n",
      "403/403 [==============================] - 475s 1s/step - loss: 1.9884 - accuracy: 0.4400 - val_loss: 2.6520 - val_accuracy: 0.3073\n",
      "Epoch 8/10\n",
      "403/403 [==============================] - 476s 1s/step - loss: 1.8240 - accuracy: 0.4850 - val_loss: 2.6711 - val_accuracy: 0.3148\n",
      "Epoch 9/10\n",
      "403/403 [==============================] - 480s 1s/step - loss: 1.6931 - accuracy: 0.5152 - val_loss: 2.6884 - val_accuracy: 0.3217\n",
      "Epoch 10/10\n",
      "403/403 [==============================] - 475s 1s/step - loss: 1.5262 - accuracy: 0.5563 - val_loss: 2.7575 - val_accuracy: 0.3285\n"
     ]
    }
   ],
   "source": [
    "epochs=10\n",
    "history = model.fit(\n",
    "  train_ds,\n",
    "  validation_data=validation_ds,\n",
    "  epochs=epochs\n",
    ")"
   ]
  },
  {
   "cell_type": "code",
   "execution_count": 8,
   "id": "b7ec4ab5-f7b4-486c-835f-5aa4694a4022",
   "metadata": {},
   "outputs": [
    {
     "data": {
      "image/png": "[encoded data removed]",
      "text/plain": [
       "<Figure size 576x576 with 2 Axes>"
      ]
     },
     "metadata": {
      "needs_background": "light"
     },
     "output_type": "display_data"
    }
   ],
   "source": [
    "import matplotlib.pyplot as plt\n",
    "acc = history.history['accuracy']\n",
    "val_acc = history.history['val_accuracy']\n",
    "\n",
    "loss = history.history['loss']\n",
    "val_loss = history.history['val_loss']\n",
    "\n",
    "epochs_range = range(epochs)\n",
    "\n",
    "plt.figure(figsize=(8, 8))\n",
    "plt.subplot(1, 2, 1)\n",
    "plt.plot(epochs_range, acc, label='Training Accuracy')\n",
    "plt.plot(epochs_range, val_acc, label='Validation Accuracy')\n",
    "plt.legend(loc='lower right')\n",
    "plt.title('Training and Validation Accuracy')\n",
    "\n",
    "plt.subplot(1, 2, 2)\n",
    "plt.plot(epochs_range, loss, label='Training Loss')\n",
    "plt.plot(epochs_range, val_loss, label='Validation Loss')\n",
    "plt.legend(loc='upper right')\n",
    "plt.title('Training and Validation Loss')\n",
    "plt.show()\n",
    "\n"
   ]
  },
  {
   "cell_type": "code",
   "execution_count": 9,
   "id": "b68cdfe8-c195-4486-b80d-5d223343d676",
   "metadata": {},
   "outputs": [],
   "source": [
    "model.save('./animal_classification_convolutional_model.h5')"
   ]
  }
 ],
 "metadata": {
  "kernelspec": {
   "display_name": "Python 3 (ipykernel)",
   "language": "python",
   "name": "python3"
  },
  "language_info": {
   "codemirror_mode": {
    "name": "ipython",
    "version": 3
   },
   "file_extension": ".py",
   "mimetype": "text/x-python",
   "name": "python",
   "nbconvert_exporter": "python",
   "pygments_lexer": "ipython3",
   "version": "3.9.7"
  }
 },
 "nbformat": 4,
 "nbformat_minor": 5
}
