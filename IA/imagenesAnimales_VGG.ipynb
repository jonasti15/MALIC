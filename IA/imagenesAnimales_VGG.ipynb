{
 "cells": [
  {
   "cell_type": "markdown",
   "id": "9327f93c-d449-4801-8f66-f10a68388507",
   "metadata": {},
   "source": [
    "# Modelo de prediccion de especies"
   ]
  },
  {
   "cell_type": "markdown",
   "id": "43bf7928-a97d-4b74-86c6-244ba69bf608",
   "metadata": {},
   "source": [
    "## Importar"
   ]
  },
  {
   "cell_type": "markdown",
   "id": "23e5916c-89ec-4192-8875-3ddbc92e37f4",
   "metadata": {},
   "source": [
    "Primero importaremos todas las librerias necesarias para el desarrollo del modelo que servira para predecir la especie del animal que aparece en la imagen. Las librerias más importantes son numpy que se usa para gestionar listas y tablas y tensorflow con keras que se usa con redes neuronales."
   ]
  },
  {
   "cell_type": "code",
   "execution_count": 1,
   "id": "d4e94182-48ca-4dfa-8215-18936f48c108",
   "metadata": {},
   "outputs": [],
   "source": [
    "\n",
    "import numpy as np\n",
    "import tensorflow as tf\n",
    "from tensorflow import keras\n",
    "from keras.constraints import maxnorm\n",
    "from keras.utils import np_utils\n",
    "from keras.models import Sequential\n",
    "from tensorflow.keras import layers\n",
    "from tensorflow.keras.layers import Dense, Activation,Dropout,Conv2D, MaxPooling2D,BatchNormalization, Flatten\n",
    "from tensorflow.keras import regularizers\n",
    "from tensorflow.keras.models import Model, load_model, Sequential\n",
    "from tensorflow.keras.optimizers import Adam, Adamax\n",
    "img_height=255\n",
    "img_width=255"
   ]
  },
  {
   "cell_type": "markdown",
   "id": "48a57d13-4735-4852-a8ac-48ab9c1199d9",
   "metadata": {},
   "source": [
    "## Preprocesamiento"
   ]
  },
  {
   "cell_type": "markdown",
   "id": "7d1cc69e-179e-4617-9864-0b9211f3d1f2",
   "metadata": {},
   "source": [
    "Para el preprocesamiento de las imagenes se ha usado la clase ImageDataGenerator y se ha vinculado a los ficheros donde estan las imagenes. De esta manera se generan imaneges con diferentes zooms y rotaciones a partir de la imagenes que tenemos en los ficheros. De esta manera se consigue evitar mucho el overfitting, ya que cada vez que le pidan imagenes al generador, este generara imagenes distintas.\n",
    "Además, debido ha que la cantidad de imágenes que hay de cada clase es distinta se calcula el peso que se le dará a cada clase a la hora de entrenar. Sin esto el modelo tendería a predecir las clases de las que tiene más fotos."
   ]
  },
  {
   "cell_type": "code",
   "execution_count": 2,
   "id": "d20b46e6-f306-402b-87d4-199181cab136",
   "metadata": {},
   "outputs": [
    {
     "name": "stdout",
     "output_type": "stream",
     "text": [
      "Found 12877 images belonging to 44 classes.\n",
      "Found 3199 images belonging to 44 classes.\n",
      "Found 2200 images belonging to 44 classes.\n"
     ]
    },
    {
     "name": "stderr",
     "output_type": "stream",
     "text": [
      "C:\\Users\\andoi\\anaconda3\\lib\\site-packages\\sklearn\\utils\\validation.py:70: FutureWarning: Pass classes=[ 0  1  2  3  4  5  6  7  8  9 10 11 12 13 14 15 16 17 18 19 20 21 22 23\n",
      " 24 25 26 27 28 29 30 31 32 33 34 35 36 37 38 39 40 41 42 43], y=[ 0  0  0 ... 43 43 43] as keyword args. From version 1.0 (renaming of 0.25) passing these as positional arguments will result in an error\n",
      "  warnings.warn(f\"Pass {args_msg} as keyword args. From version \"\n"
     ]
    },
    {
     "name": "stdout",
     "output_type": "stream",
     "text": [
      "{0: 1.540311004784689, 1: 2.4593200916730327, 2: 1.1896711012564671, 3: 0.858237803252466, 4: 0.8815032858707558, 5: 0.7846088228125762, 6: 0.381563351902335, 7: 1.721524064171123, 8: 2.2340388619014573, 9: 0.5134370015948964, 10: 1.4632954545454546, 11: 2.2340388619014573, 12: 2.6130275974025974, 13: 2.7098063973063975, 14: 0.6518019842073294, 15: 2.6849457881567975, 16: 2.4388257575757577, 17: 1.9381396748946418, 18: 1.016177398989899, 19: 0.2505642901618929, 20: 3.3638975966562175, 21: 3.2517676767676766, 22: 0.35516879964695497, 23: 1.721524064171123, 24: 1.9381396748946418, 25: 0.7701555023923445, 26: 2.522923197492163, 27: 0.5595776116808622, 28: 0.7909705159705159, 29: 1.3675658453695836, 30: 1.3007070707070707, 31: 1.8760198135198136, 32: 5.226055194805195, 33: 1.283592503987241, 34: 0.6902337049742711, 35: 0.38711519961519963, 36: 0.5936289876452149, 37: 0.7390381083562901, 38: 1.2614615987460815, 39: 1.0268740031897927, 40: 5.226055194805195, 41: 1.8881231671554253, 42: 1.3363428808634288, 43: 1.4931586270871986}\n",
      "(32, 255, 255, 3)\n",
      "(32, 44)\n"
     ]
    }
   ],
   "source": [
    "from tensorflow.keras.preprocessing.image import ImageDataGenerator\n",
    "test_datagen = ImageDataGenerator(rescale=1./255)\n",
    "train_datagen = ImageDataGenerator(\n",
    "        rescale=1./255,\n",
    "        shear_range=0.2,\n",
    "        zoom_range=0.2,\n",
    "        validation_split=0.2,\n",
    "        horizontal_flip=True)\n",
    "\n",
    "\n",
    "\n",
    "train_ds = train_datagen.flow_from_directory(\n",
    "    directory='datos_nuevos/train',\n",
    "    class_mode='categorical',\n",
    "    batch_size=32,\n",
    "    target_size=(img_height, img_width),\n",
    "    subset='training')\n",
    "validation_ds = train_datagen.flow_from_directory(\n",
    "    directory='datos_nuevos/train',\n",
    "    class_mode='categorical',\n",
    "    batch_size=32,\n",
    "    target_size=(img_height, img_width),\n",
    "    subset='validation')\n",
    "test_ds = test_datagen.flow_from_directory(\n",
    "    directory='datos_nuevos/test',\n",
    "    class_mode='categorical',\n",
    "    batch_size=32,\n",
    "    target_size=(img_height, img_width))\n",
    "\n",
    "from sklearn.utils import class_weight\n",
    "import numpy as np\n",
    "\n",
    "\n",
    "class_weights = class_weight.compute_class_weight(\n",
    "           'balanced',\n",
    "            np.unique(train_ds.classes), \n",
    "            train_ds.classes)\n",
    "class_weight_dict = dict(enumerate(class_weights))\n",
    "print(class_weight_dict)\n",
    "images, labels = next(train_ds)\n",
    "print(images.shape)\n",
    "print(labels.shape)"
   ]
  },
  {
   "cell_type": "markdown",
   "id": "86cdcb7c-4088-4bcc-a410-d682da6e997c",
   "metadata": {},
   "source": [
    "## Modelado y evaluacion"
   ]
  },
  {
   "cell_type": "markdown",
   "id": "a8cca450-f48e-4abb-81d2-2147f9328295",
   "metadata": {},
   "source": [
    "Se ha usado un modelo preentrenado para cojer como base y añadirle capas para adaptarlo a este problema. Se configuraron como inentrenables las primeras 15 capas para que mantuvieran los pesos que tenían entrenados de antes y se configuraron las ultimas capas como entrenables. Tambien se le ha configurado el tamaño de entrada de las imagenes"
   ]
  },
  {
   "cell_type": "code",
   "execution_count": 3,
   "id": "8e527f75-4286-4a63-abf7-31124e1327e5",
   "metadata": {},
   "outputs": [
    {
     "name": "stdout",
     "output_type": "stream",
     "text": [
      "0 input_1 False\n",
      "1 block1_conv1 False\n",
      "2 block1_conv2 False\n",
      "3 block1_pool False\n",
      "4 block2_conv1 False\n",
      "5 block2_conv2 False\n",
      "6 block2_pool False\n",
      "7 block3_conv1 False\n",
      "8 block3_conv2 False\n",
      "9 block3_conv3 False\n",
      "10 block3_pool False\n",
      "11 block4_conv1 False\n",
      "12 block4_conv2 False\n",
      "13 block4_conv3 False\n",
      "14 block4_pool False\n",
      "15 block5_conv1 True\n",
      "16 block5_conv2 True\n",
      "17 block5_conv3 True\n",
      "18 block5_pool True\n"
     ]
    }
   ],
   "source": [
    "classes=['Bear', 'Camel', 'Cattle', 'Chicken',  'Deer', 'Duck', 'Eagle', 'Elephant', 'Fox', 'Frog', 'Giraffe', 'Goldfish', 'Hedgehog', 'Hippopotamus', 'Horse', 'Jaguar', 'Kangaroo', 'Koala', 'Lion', 'Lizard', 'Lynx', 'Magpie', 'Monkey', 'Ostrich', 'Otter', 'Owl', 'Panda', 'Parrot', 'Penguin', 'Polar bear', 'Rabbit', 'Raccoon', 'Red panda', 'Rhinoceros', 'Sheep', 'Snake', 'Sparrow', 'Squirrel', 'Swan', 'Tiger', 'Turkey', 'Turtle', 'Woodpecker', 'Zebra']\n",
    "num_classes = len(classes)\n",
    "\n",
    "from keras.applications.vgg16 import VGG16\n",
    "vgg_model = VGG16(weights='imagenet', include_top=False, input_shape=(255, 255, 3))\n",
    "\n",
    "# Freeze four convolution blocks\n",
    "for layer in vgg_model.layers[:15]:\n",
    "    layer.trainable = False\n",
    "# Make sure you have frozen the correct layers\n",
    "for i, layer in enumerate(vgg_model.layers):\n",
    "    print(i, layer.name, layer.trainable)"
   ]
  },
  {
   "cell_type": "markdown",
   "id": "76fc0363-df3e-4413-9d22-7d60fda1dc2a",
   "metadata": {},
   "source": [
    "Al modelo anterior se añadieron unas capas de Dense para adaptarlo al caso, poniendo la última con la cantidad de neuronas igual que la cantidad de clases que hay. También se añadieron capas de dropout para evitar overfitting. Se utilizó una reducción del ratio de aprendizaje para mejorar la precisión y checkpoints para guardar la mejor versión del modelo. "
   ]
  },
  {
   "cell_type": "code",
   "execution_count": 4,
   "id": "e5ffd987-3832-4179-afa5-5075391667f9",
   "metadata": {},
   "outputs": [
    {
     "name": "stdout",
     "output_type": "stream",
     "text": [
      "Epoch 1/30\n",
      "247/403 [=================>............] - ETA: 5:07 - loss: 3.6628 - accuracy: 0.0695"
     ]
    },
    {
     "name": "stderr",
     "output_type": "stream",
     "text": [
      "C:\\Users\\andoi\\anaconda3\\lib\\site-packages\\PIL\\Image.py:2918: DecompressionBombWarning: Image size (108731904 pixels) exceeds limit of 89478485 pixels, could be decompression bomb DOS attack.\n",
      "  warnings.warn(\n"
     ]
    },
    {
     "name": "stdout",
     "output_type": "stream",
     "text": [
      "403/403 [==============================] - ETA: 0s - loss: 3.4302 - accuracy: 0.1154\n",
      "Epoch 1: val_accuracy improved from -inf to 0.28290, saving model to vgg16_animal_classification.h5\n",
      "403/403 [==============================] - 794s 2s/step - loss: 3.4302 - accuracy: 0.1154 - val_loss: 2.7531 - val_accuracy: 0.2829 - lr: 3.0000e-05\n",
      "Epoch 2/30\n",
      "403/403 [==============================] - ETA: 0s - loss: 2.3319 - accuracy: 0.3540\n",
      "Epoch 2: val_accuracy improved from 0.28290 to 0.43326, saving model to vgg16_animal_classification.h5\n",
      "403/403 [==============================] - 513s 1s/step - loss: 2.3319 - accuracy: 0.3540 - val_loss: 2.0374 - val_accuracy: 0.4333 - lr: 3.0000e-05\n",
      "Epoch 3/30\n",
      "403/403 [==============================] - ETA: 0s - loss: 1.7106 - accuracy: 0.4820\n",
      "Epoch 3: val_accuracy improved from 0.43326 to 0.50422, saving model to vgg16_animal_classification.h5\n",
      "403/403 [==============================] - 545s 1s/step - loss: 1.7106 - accuracy: 0.4820 - val_loss: 1.7647 - val_accuracy: 0.5042 - lr: 3.0000e-05\n",
      "Epoch 4/30\n",
      "403/403 [==============================] - ETA: 0s - loss: 1.3653 - accuracy: 0.5657\n",
      "Epoch 4: val_accuracy improved from 0.50422 to 0.57237, saving model to vgg16_animal_classification.h5\n",
      "403/403 [==============================] - 530s 1s/step - loss: 1.3653 - accuracy: 0.5657 - val_loss: 1.5268 - val_accuracy: 0.5724 - lr: 3.0000e-05\n",
      "Epoch 5/30\n",
      "403/403 [==============================] - ETA: 0s - loss: 1.1212 - accuracy: 0.6231\n",
      "Epoch 5: val_accuracy improved from 0.57237 to 0.61113, saving model to vgg16_animal_classification.h5\n",
      "403/403 [==============================] - 525s 1s/step - loss: 1.1212 - accuracy: 0.6231 - val_loss: 1.4055 - val_accuracy: 0.6111 - lr: 3.0000e-05\n",
      "Epoch 6/30\n",
      "403/403 [==============================] - ETA: 0s - loss: 0.9546 - accuracy: 0.6659\n",
      "Epoch 6: val_accuracy improved from 0.61113 to 0.61238, saving model to vgg16_animal_classification.h5\n",
      "403/403 [==============================] - 531s 1s/step - loss: 0.9546 - accuracy: 0.6659 - val_loss: 1.3642 - val_accuracy: 0.6124 - lr: 3.0000e-05\n",
      "Epoch 7/30\n",
      "403/403 [==============================] - ETA: 0s - loss: 0.8116 - accuracy: 0.7107\n",
      "Epoch 7: val_accuracy improved from 0.61238 to 0.64989, saving model to vgg16_animal_classification.h5\n",
      "403/403 [==============================] - 522s 1s/step - loss: 0.8116 - accuracy: 0.7107 - val_loss: 1.2442 - val_accuracy: 0.6499 - lr: 3.0000e-05\n",
      "Epoch 8/30\n",
      "403/403 [==============================] - ETA: 0s - loss: 0.7057 - accuracy: 0.7417\n",
      "Epoch 8: val_accuracy did not improve from 0.64989\n",
      "403/403 [==============================] - 527s 1s/step - loss: 0.7057 - accuracy: 0.7417 - val_loss: 1.2488 - val_accuracy: 0.6480 - lr: 3.0000e-05\n",
      "Epoch 9/30\n",
      "403/403 [==============================] - ETA: 0s - loss: 0.6188 - accuracy: 0.7637\n",
      "Epoch 9: val_accuracy improved from 0.64989 to 0.65520, saving model to vgg16_animal_classification.h5\n",
      "403/403 [==============================] - 522s 1s/step - loss: 0.6188 - accuracy: 0.7637 - val_loss: 1.1772 - val_accuracy: 0.6552 - lr: 3.0000e-05\n",
      "Epoch 10/30\n",
      "403/403 [==============================] - ETA: 0s - loss: 0.5364 - accuracy: 0.7886\n",
      "Epoch 10: val_accuracy improved from 0.65520 to 0.68803, saving model to vgg16_animal_classification.h5\n",
      "403/403 [==============================] - 533s 1s/step - loss: 0.5364 - accuracy: 0.7886 - val_loss: 1.1188 - val_accuracy: 0.6880 - lr: 3.0000e-05\n",
      "Epoch 11/30\n",
      "403/403 [==============================] - ETA: 0s - loss: 0.4909 - accuracy: 0.8045\n",
      "Epoch 11: val_accuracy improved from 0.68803 to 0.69053, saving model to vgg16_animal_classification.h5\n",
      "403/403 [==============================] - 534s 1s/step - loss: 0.4909 - accuracy: 0.8045 - val_loss: 1.0966 - val_accuracy: 0.6905 - lr: 3.0000e-05\n",
      "Epoch 12/30\n",
      "403/403 [==============================] - ETA: 0s - loss: 0.4085 - accuracy: 0.8302\n",
      "Epoch 12: val_accuracy did not improve from 0.69053\n",
      "403/403 [==============================] - 544s 1s/step - loss: 0.4085 - accuracy: 0.8302 - val_loss: 1.1267 - val_accuracy: 0.6786 - lr: 3.0000e-05\n",
      "Epoch 13/30\n",
      "403/403 [==============================] - ETA: 0s - loss: 0.3770 - accuracy: 0.8427\n",
      "Epoch 13: val_accuracy improved from 0.69053 to 0.69428, saving model to vgg16_animal_classification.h5\n",
      "403/403 [==============================] - 519s 1s/step - loss: 0.3770 - accuracy: 0.8427 - val_loss: 1.1306 - val_accuracy: 0.6943 - lr: 3.0000e-05\n",
      "Epoch 14/30\n",
      "403/403 [==============================] - ETA: 0s - loss: 0.3282 - accuracy: 0.8575\n",
      "Epoch 14: val_accuracy improved from 0.69428 to 0.69490, saving model to vgg16_animal_classification.h5\n",
      "403/403 [==============================] - 515s 1s/step - loss: 0.3282 - accuracy: 0.8575 - val_loss: 1.1571 - val_accuracy: 0.6949 - lr: 3.0000e-05\n",
      "Epoch 15/30\n",
      "403/403 [==============================] - ETA: 0s - loss: 0.2967 - accuracy: 0.8715\n",
      "Epoch 15: val_accuracy improved from 0.69490 to 0.70209, saving model to vgg16_animal_classification.h5\n",
      "403/403 [==============================] - 519s 1s/step - loss: 0.2967 - accuracy: 0.8715 - val_loss: 1.1064 - val_accuracy: 0.7021 - lr: 3.0000e-05\n",
      "Epoch 16/30\n",
      "403/403 [==============================] - ETA: 0s - loss: 0.2666 - accuracy: 0.8834\n",
      "Epoch 16: val_accuracy improved from 0.70209 to 0.70616, saving model to vgg16_animal_classification.h5\n",
      "403/403 [==============================] - 530s 1s/step - loss: 0.2666 - accuracy: 0.8834 - val_loss: 1.1229 - val_accuracy: 0.7062 - lr: 3.0000e-05\n",
      "Epoch 17/30\n",
      "403/403 [==============================] - ETA: 0s - loss: 0.2378 - accuracy: 0.8900\n",
      "Epoch 17: val_accuracy did not improve from 0.70616\n",
      "403/403 [==============================] - 510s 1s/step - loss: 0.2378 - accuracy: 0.8900 - val_loss: 1.1764 - val_accuracy: 0.6940 - lr: 3.0000e-05\n",
      "Epoch 18/30\n",
      "403/403 [==============================] - ETA: 0s - loss: 0.2332 - accuracy: 0.8945\n",
      "Epoch 18: val_accuracy improved from 0.70616 to 0.70772, saving model to vgg16_animal_classification.h5\n",
      "403/403 [==============================] - 509s 1s/step - loss: 0.2332 - accuracy: 0.8945 - val_loss: 1.0829 - val_accuracy: 0.7077 - lr: 3.0000e-05\n",
      "Epoch 19/30\n",
      "403/403 [==============================] - ETA: 0s - loss: 0.2137 - accuracy: 0.9015\n",
      "Epoch 19: val_accuracy improved from 0.70772 to 0.70991, saving model to vgg16_animal_classification.h5\n",
      "403/403 [==============================] - 533s 1s/step - loss: 0.2137 - accuracy: 0.9015 - val_loss: 1.1072 - val_accuracy: 0.7099 - lr: 3.0000e-05\n",
      "Epoch 20/30\n",
      "403/403 [==============================] - ETA: 0s - loss: 0.1815 - accuracy: 0.9153\n",
      "Epoch 20: val_accuracy improved from 0.70991 to 0.71929, saving model to vgg16_animal_classification.h5\n",
      "403/403 [==============================] - 549s 1s/step - loss: 0.1815 - accuracy: 0.9153 - val_loss: 1.1131 - val_accuracy: 0.7193 - lr: 3.0000e-05\n",
      "Epoch 21/30\n",
      "403/403 [==============================] - ETA: 0s - loss: 0.1719 - accuracy: 0.9209\n",
      "Epoch 21: val_accuracy did not improve from 0.71929\n",
      "403/403 [==============================] - 544s 1s/step - loss: 0.1719 - accuracy: 0.9209 - val_loss: 1.2177 - val_accuracy: 0.7021 - lr: 3.0000e-05\n",
      "Epoch 22/30\n",
      "403/403 [==============================] - ETA: 0s - loss: 0.1705 - accuracy: 0.9226\n",
      "Epoch 22: val_accuracy did not improve from 0.71929\n",
      "403/403 [==============================] - 539s 1s/step - loss: 0.1705 - accuracy: 0.9226 - val_loss: 1.1281 - val_accuracy: 0.7087 - lr: 3.0000e-05\n",
      "Epoch 23/30\n",
      "403/403 [==============================] - ETA: 0s - loss: 0.1331 - accuracy: 0.9374\n",
      "Epoch 23: val_accuracy did not improve from 0.71929\n",
      "403/403 [==============================] - 534s 1s/step - loss: 0.1331 - accuracy: 0.9374 - val_loss: 1.2080 - val_accuracy: 0.7143 - lr: 3.0000e-05\n",
      "Epoch 24/30\n",
      "403/403 [==============================] - ETA: 0s - loss: 0.1452 - accuracy: 0.9347\n",
      "Epoch 24: val_accuracy improved from 0.71929 to 0.72273, saving model to vgg16_animal_classification.h5\n",
      "403/403 [==============================] - 551s 1s/step - loss: 0.1452 - accuracy: 0.9347 - val_loss: 1.1404 - val_accuracy: 0.7227 - lr: 3.0000e-05\n",
      "Epoch 25/30\n",
      "403/403 [==============================] - ETA: 0s - loss: 0.1204 - accuracy: 0.9437\n",
      "Epoch 25: val_accuracy did not improve from 0.72273\n",
      "403/403 [==============================] - 556s 1s/step - loss: 0.1204 - accuracy: 0.9437 - val_loss: 1.2214 - val_accuracy: 0.7080 - lr: 3.0000e-05\n",
      "Epoch 26/30\n",
      "403/403 [==============================] - ETA: 0s - loss: 0.1233 - accuracy: 0.9433\n",
      "Epoch 26: val_accuracy did not improve from 0.72273\n",
      "403/403 [==============================] - 549s 1s/step - loss: 0.1233 - accuracy: 0.9433 - val_loss: 1.2748 - val_accuracy: 0.7002 - lr: 3.0000e-05\n",
      "Epoch 27/30\n",
      "403/403 [==============================] - ETA: 0s - loss: 0.1096 - accuracy: 0.9476\n",
      "Epoch 27: val_accuracy improved from 0.72273 to 0.72804, saving model to vgg16_animal_classification.h5\n",
      "403/403 [==============================] - 565s 1s/step - loss: 0.1096 - accuracy: 0.9476 - val_loss: 1.1735 - val_accuracy: 0.7280 - lr: 3.0000e-05\n",
      "Epoch 28/30\n",
      "403/403 [==============================] - ETA: 0s - loss: 0.1100 - accuracy: 0.9526\n",
      "Epoch 28: val_accuracy did not improve from 0.72804\n",
      "403/403 [==============================] - 546s 1s/step - loss: 0.1100 - accuracy: 0.9526 - val_loss: 1.2158 - val_accuracy: 0.7143 - lr: 3.0000e-05\n",
      "Epoch 29/30\n",
      "403/403 [==============================] - ETA: 0s - loss: 0.1023 - accuracy: 0.9508\n",
      "Epoch 29: val_accuracy improved from 0.72804 to 0.72835, saving model to vgg16_animal_classification.h5\n",
      "403/403 [==============================] - 538s 1s/step - loss: 0.1023 - accuracy: 0.9508 - val_loss: 1.2361 - val_accuracy: 0.7284 - lr: 3.0000e-05\n",
      "Epoch 30/30\n",
      "403/403 [==============================] - ETA: 0s - loss: 0.1013 - accuracy: 0.9553\n",
      "Epoch 30: val_accuracy improved from 0.72835 to 0.73023, saving model to vgg16_animal_classification.h5\n",
      "403/403 [==============================] - 554s 1s/step - loss: 0.1013 - accuracy: 0.9553 - val_loss: 1.1317 - val_accuracy: 0.7302 - lr: 3.0000e-05\n"
     ]
    }
   ],
   "source": [
    "x = vgg_model.output\n",
    "x = Flatten()(x) # Flatten dimensions to for use in FC layers\n",
    "x = Dense(512, activation='relu')(x)\n",
    "x = Dropout(0.5)(x) # Dropout layer to reduce overfitting\n",
    "x = Dense(256, activation='relu')(x)\n",
    "x = Dense(num_classes, activation='softmax')(x) # Softmax for multiclass\n",
    "transfer_model = Model(inputs=vgg_model.input, outputs=x)\n",
    "\n",
    "from keras.callbacks import ReduceLROnPlateau, ModelCheckpoint\n",
    "lr_reduce = ReduceLROnPlateau(monitor='val_accuracy', factor=0.6, patience=8, verbose=1, mode='max', min_lr=4e-5)\n",
    "checkpoint = ModelCheckpoint('vgg16_animal_classification.h5', monitor= 'val_accuracy', mode= 'max', save_best_only = True, verbose= 1)\n",
    "from tensorflow.keras import layers, models, Model, optimizers\n",
    "learning_rate= 3e-5\n",
    "epochs=30\n",
    "transfer_model.compile(loss=\"categorical_crossentropy\", optimizer=optimizers.Adam(learning_rate=learning_rate), metrics=[\"accuracy\"])\n",
    "history = transfer_model.fit(train_ds, batch_size = 1, epochs=epochs, validation_data=validation_ds, callbacks=[lr_reduce,checkpoint], class_weight=class_weight_dict)"
   ]
  },
  {
   "cell_type": "markdown",
   "id": "3b968ed8-b7ff-4b7e-8658-2cf98e8e9176",
   "metadata": {},
   "source": [
    "Despues de entrenar el modelo se puede ver el historial de su entrenamiento. En el se ve que a partir del epoch 6 el modelo empieza a overfitear. Aun así la precisión sigue aumentando poco a poco durante unos epochs, aunque a partir del epoch 15 la precision deja de aumentar y el loss deja de reducirse. La precision del train sigue aumnetando hasta el final y consigue una precision del 95%, pero lo que interesa es la precision en la validacion por lo que con el checkpoint se guarda el modelo con mayor precision en la validacion con un 73%."
   ]
  },
  {
   "cell_type": "code",
   "execution_count": 5,
   "id": "b7ec4ab5-f7b4-486c-835f-5aa4694a4022",
   "metadata": {},
   "outputs": [
    {
     "data": {
      "image/png": "[encoded data removed]",
      "text/plain": [
       "<Figure size 576x576 with 2 Axes>"
      ]
     },
     "metadata": {
      "needs_background": "light"
     },
     "output_type": "display_data"
    }
   ],
   "source": [
    "import matplotlib.pyplot as plt\n",
    "acc = history.history['accuracy']\n",
    "val_acc = history.history['val_accuracy']\n",
    "\n",
    "loss = history.history['loss']\n",
    "val_loss = history.history['val_loss']\n",
    "\n",
    "epochs_range = range(epochs)\n",
    "\n",
    "plt.figure(figsize=(8, 8))\n",
    "plt.subplot(1, 2, 1)\n",
    "plt.plot(epochs_range, acc, label='Training Accuracy')\n",
    "plt.plot(epochs_range, val_acc, label='Validation Accuracy')\n",
    "plt.legend(loc='lower right')\n",
    "plt.title('Training and Validation Accuracy')\n",
    "\n",
    "plt.subplot(1, 2, 2)\n",
    "plt.plot(epochs_range, loss, label='Training Loss')\n",
    "plt.plot(epochs_range, val_loss, label='Validation Loss')\n",
    "plt.legend(loc='upper right')\n",
    "plt.title('Training and Validation Loss')\n",
    "plt.show()"
   ]
  }
 ],
 "metadata": {
  "kernelspec": {
   "display_name": "Python 3 (ipykernel)",
   "language": "python",
   "name": "python3"
  },
  "language_info": {
   "codemirror_mode": {
    "name": "ipython",
    "version": 3
   },
   "file_extension": ".py",
   "mimetype": "text/x-python",
   "name": "python",
   "nbconvert_exporter": "python",
   "pygments_lexer": "ipython3",
   "version": "3.9.7"
  }
 },
 "nbformat": 4,
 "nbformat_minor": 5
}
